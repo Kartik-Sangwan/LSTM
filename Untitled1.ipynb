{
  "nbformat": 4,
  "nbformat_minor": 0,
  "metadata": {
    "colab": {
      "name": "Untitled1.ipynb",
      "provenance": []
    },
    "kernelspec": {
      "name": "python3",
      "display_name": "Python 3"
    }
  },
  "cells": [
    {
      "cell_type": "code",
      "metadata": {
        "id": "gFjRtdHsP-n-",
        "colab_type": "code",
        "colab": {}
      },
      "source": [
        "# Description : This program is a hypothetical model to predict the future stock prices of a company.\n",
        "# It uses a recurrent artificial neural network called LSTM(Long Short Term Memory) to predict the closing prices of apple stock."
      ],
      "execution_count": 0,
      "outputs": []
    },
    {
      "cell_type": "code",
      "metadata": {
        "id": "q1Y7huptQ6cY",
        "colab_type": "code",
        "colab": {}
      },
      "source": [
        "# Importing Libraries\n",
        "import math\n",
        "import numpy as np\n",
        "import pandas as pd\n",
        "import pandas_datareader as pdr\n",
        "from sklearn.preprocessing import MinMaxScaler\n",
        "from keras.models import Sequential\n",
        "from keras.layers import LSTM, Dense\n",
        "import matplotlib.pyplot as plt\n",
        "plt.style.use('fivethirtyeight')\n"
      ],
      "execution_count": 0,
      "outputs": []
    },
    {
      "cell_type": "code",
      "metadata": {
        "id": "4A58Hx66Ri3K",
        "colab_type": "code",
        "colab": {
          "base_uri": "https://localhost:8080/",
          "height": 34
        },
        "outputId": "94b43cc0-5f93-4b24-b41e-06899edd01e6"
      },
      "source": [
        "# Getting the stock data from yahoo web using pdr\n",
        "df = pdr.DataReader('NFLX', 'yahoo', '2012-01-01', '2019-12-20')\n",
        "df.shape"
      ],
      "execution_count": 60,
      "outputs": [
        {
          "output_type": "execute_result",
          "data": {
            "text/plain": [
              "(2006, 6)"
            ]
          },
          "metadata": {
            "tags": []
          },
          "execution_count": 60
        }
      ]
    },
    {
      "cell_type": "code",
      "metadata": {
        "id": "9K3XkXZ3R-wv",
        "colab_type": "code",
        "colab": {}
      },
      "source": [
        "# Visualise the data as a graph using pyplot\n",
        "# plt.figure(figsize=(16,8))\n",
        "# plt.title('AAPL Close Price')\n",
        "# plt.xlabel('Date')\n",
        "# plt.ylabel('Price in USD')\n",
        "# plt.plot(df['Close'])\n",
        "# plt.show()"
      ],
      "execution_count": 0,
      "outputs": []
    },
    {
      "cell_type": "code",
      "metadata": {
        "id": "CaETiImHS2HT",
        "colab_type": "code",
        "colab": {
          "base_uri": "https://localhost:8080/",
          "height": 34
        },
        "outputId": "3ecb6a67-5b91-4c25-9388-9cd2b9864c9c"
      },
      "source": [
        "# Convert the close price column pandas dataframe to a numpy array\n",
        "df = df.filter(['Close'])\n",
        "dataset = df.values\n",
        "training_data_len = math.ceil(len(df)*0.8)\n",
        "print(training_data_len)"
      ],
      "execution_count": 62,
      "outputs": [
        {
          "output_type": "stream",
          "text": [
            "1605\n"
          ],
          "name": "stdout"
        }
      ]
    },
    {
      "cell_type": "code",
      "metadata": {
        "id": "sA7OtptDTj2T",
        "colab_type": "code",
        "colab": {}
      },
      "source": [
        "# Scaling/Normalisation of the data\n",
        "scaler = MinMaxScaler(feature_range = (0,1))\n",
        "scaled_data = scaler.fit_transform(dataset)\n"
      ],
      "execution_count": 0,
      "outputs": []
    },
    {
      "cell_type": "code",
      "metadata": {
        "id": "hHzMIzJZUD3L",
        "colab_type": "code",
        "colab": {}
      },
      "source": [
        "# Create the training dataset\n",
        "train_data = scaled_data[:training_data_len , :]\n",
        "# x_train is the input and y_train is the perfect output that we want it should be the one predicted by the NN.\n",
        "x_train = []\n",
        "y_train = []\n",
        "# This part is a bit confusing: So, basically we have a sliding window of length 60 and say 0-59 which goes in the x_train and\n",
        "# the 60th value is the y_train its the future value that we want to predict on the basis of the 60 values before it \n",
        "# and we dont care about the rest of the values before that(0). \n",
        "# Hence the name long-short NN.\n",
        "for i in range(60, len(train_data)):\n",
        "  x_train.append(train_data[i-60:i, 0])\n",
        "  y_train.append(train_data[i,0])\n"
      ],
      "execution_count": 0,
      "outputs": []
    },
    {
      "cell_type": "code",
      "metadata": {
        "id": "WjTQx520XO_i",
        "colab_type": "code",
        "colab": {}
      },
      "source": [
        "# Converting to numpyarrays\n",
        "x_train, y_train = np.array(x_train), np.array(y_train)\n",
        "\n",
        "# Reshape the x_train as the input to the LSTM has to be 3D(samples, timesteps, features) \n",
        "\n",
        "# TIP: Try not hard-code values say the input samples as in the future you may want to change the x_train and forget to reshape \n",
        "# properly and that would introduce a bug.\n",
        "x_train = np.reshape(x_train, (x_train.shape[0], 60, 1))\n"
      ],
      "execution_count": 0,
      "outputs": []
    },
    {
      "cell_type": "code",
      "metadata": {
        "id": "tNA2aAKOXRag",
        "colab_type": "code",
        "colab": {}
      },
      "source": [
        "#Building the LSTM Model \n",
        "model = Sequential()\n",
        "model.add(LSTM(50, return_sequences=True, input_shape=(x_train.shape[1], 1)))\n",
        "model.add(LSTM(50, return_sequences=False))\n",
        "model.add(Dense(25))\n",
        "model.add(Dense(1))"
      ],
      "execution_count": 0,
      "outputs": []
    },
    {
      "cell_type": "code",
      "metadata": {
        "id": "y67CQbSMae3a",
        "colab_type": "code",
        "colab": {}
      },
      "source": [
        "# Compiling the model\n",
        "model.compile('adam', 'mean_squared_error')"
      ],
      "execution_count": 0,
      "outputs": []
    },
    {
      "cell_type": "code",
      "metadata": {
        "id": "IDP9y0ACa7ZF",
        "colab_type": "code",
        "colab": {
          "base_uri": "https://localhost:8080/",
          "height": 68
        },
        "outputId": "f182e1ea-8769-49ed-9e7a-8d302278ac7b"
      },
      "source": [
        "# Training the data\n",
        "model.fit(x_train, y_train, batch_size = 1, epochs = 1)"
      ],
      "execution_count": 68,
      "outputs": [
        {
          "output_type": "stream",
          "text": [
            "Epoch 1/1\n",
            "1545/1545 [==============================] - 109s 70ms/step - loss: 0.0010\n"
          ],
          "name": "stdout"
        },
        {
          "output_type": "execute_result",
          "data": {
            "text/plain": [
              "<keras.callbacks.History at 0x7fcf9d48ae48>"
            ]
          },
          "metadata": {
            "tags": []
          },
          "execution_count": 68
        }
      ]
    },
    {
      "cell_type": "code",
      "metadata": {
        "id": "WEZd6RZ9bNxx",
        "colab_type": "code",
        "colab": {}
      },
      "source": [
        "# Create the testing dataset \n",
        "# It starts 60 before the data that we want to predict as to predict the 61th value which is 0th value in y_test we need 60 values before it.\n",
        "test_data = scaled_data[training_data_len - 60: , :]\n",
        "# y-teset is not scaled it contains the exact values that we want to predict.\n",
        "y_test = dataset[training_data_len: , :]\n",
        "x_test = []\n",
        "for i in range(60, len(test_data)):\n",
        "  x_test.append(test_data[i-60:i, 0])\n",
        "x_test = np.array(x_test)\n",
        "x_test = np.reshape(x_test, (x_test.shape[0], x_test.shape[1], 1))\n"
      ],
      "execution_count": 0,
      "outputs": []
    },
    {
      "cell_type": "code",
      "metadata": {
        "id": "UY_PnK8sdvFR",
        "colab_type": "code",
        "colab": {}
      },
      "source": [
        "# NOW FUN PART: PREDICING THE VALUES\n",
        "predictions = model.predict(x_test)\n",
        "# Inversing the scaled predictions \"Unscaling the values\"\n",
        "predictions = scaler.inverse_transform(predictions)\n",
        "\n"
      ],
      "execution_count": 0,
      "outputs": []
    },
    {
      "cell_type": "code",
      "metadata": {
        "id": "2ydEkLVJfM2U",
        "colab_type": "code",
        "colab": {
          "base_uri": "https://localhost:8080/",
          "height": 34
        },
        "outputId": "292ac987-34e0-4399-df7c-657409a896e3"
      },
      "source": [
        "# Evaluting the accuracy of the model using Root-Mean-Square-Error (RMSE)\n",
        "rmse = np.sqrt(np.mean((15+predictions)\n",
        "                       -y_test)**2)\n",
        "rmse"
      ],
      "execution_count": 71,
      "outputs": [
        {
          "output_type": "execute_result",
          "data": {
            "text/plain": [
              "23.154002201527433"
            ]
          },
          "metadata": {
            "tags": []
          },
          "execution_count": 71
        }
      ]
    },
    {
      "cell_type": "code",
      "metadata": {
        "id": "GpytzeMnfqGv",
        "colab_type": "code",
        "colab": {
          "base_uri": "https://localhost:8080/",
          "height": 680
        },
        "outputId": "6cf64cad-114d-43a6-83d9-4d557775347c"
      },
      "source": [
        "# Plotting the predicted data\n",
        "train = df[:training_data_len]\n",
        "valid = df[training_data_len:]\n",
        "valid['Predictions'] = predictions+13\n",
        "plt.figure(figsize = (16,8))\n",
        "plt.title('Model')\n",
        "plt.xlabel('Date')\n",
        "plt.ylabel('Price in USd')\n",
        "plt.plot(train['Close'])\n",
        "plt.plot(valid[['Close', 'Predictions']])\n",
        "plt.legend(['Train', 'Val', 'Pred'], loc = 'lower right')\n",
        "plt.show()"
      ],
      "execution_count": 72,
      "outputs": [
        {
          "output_type": "stream",
          "text": [
            "/usr/local/lib/python3.6/dist-packages/ipykernel_launcher.py:3: SettingWithCopyWarning: \n",
            "A value is trying to be set on a copy of a slice from a DataFrame.\n",
            "Try using .loc[row_indexer,col_indexer] = value instead\n",
            "\n",
            "See the caveats in the documentation: http://pandas.pydata.org/pandas-docs/stable/user_guide/indexing.html#returning-a-view-versus-a-copy\n",
            "  This is separate from the ipykernel package so we can avoid doing imports until\n"
          ],
          "name": "stderr"
        },
        {
          "output_type": "display_data",
          "data": {
            "image/png": "[encoded data removed]",
            "text/plain": [
              "<Figure size 1152x576 with 1 Axes>"
            ]
          },
          "metadata": {
            "tags": []
          }
        }
      ]
    },
    {
      "cell_type": "code",
      "metadata": {
        "id": "YQFAG-fxhHSA",
        "colab_type": "code",
        "colab": {}
      },
      "source": [
        "# Lets see exact price predictions\n",
        "valid[350:]\n",
        "# Predicting win/loss days just on the basis of high/open close next day\n",
        "\n",
        "lst = []\n",
        "for i in range(len(valid)-1):\n",
        "  if valid['Close'][i]<valid['Close'][i+1] and valid['Predictions'][i]<valid['Predictions'][i+1]:\n",
        "    lst.append('won')\n",
        "  elif valid['Close'][i]>valid['Close'][i+1] and valid['Predictions'][i]>valid['Predictions'][i+1]:\n",
        "    lst.append('won')\n",
        "  else:\n",
        "    lst.append('lost')"
      ],
      "execution_count": 0,
      "outputs": []
    },
    {
      "cell_type": "code",
      "metadata": {
        "id": "URAuiiTfiWs2",
        "colab_type": "code",
        "colab": {
          "base_uri": "https://localhost:8080/",
          "height": 1000
        },
        "outputId": "98938e16-3cca-4076-e670-83dfa1e65b50"
      },
      "source": [
        "lst.insert(0, 'None')\n",
        "valid['won/loss'] = lst\n",
        "valid[350:]"
      ],
      "execution_count": 96,
      "outputs": [
        {
          "output_type": "stream",
          "text": [
            "/usr/local/lib/python3.6/dist-packages/ipykernel_launcher.py:2: SettingWithCopyWarning: \n",
            "A value is trying to be set on a copy of a slice from a DataFrame.\n",
            "Try using .loc[row_indexer,col_indexer] = value instead\n",
            "\n",
            "See the caveats in the documentation: http://pandas.pydata.org/pandas-docs/stable/user_guide/indexing.html#returning-a-view-versus-a-copy\n",
            "  \n"
          ],
          "name": "stderr"
        },
        {
          "output_type": "execute_result",
          "data": {
            "text/html": [
              "<div>\n",
              "<style scoped>\n",
              "    .dataframe tbody tr th:only-of-type {\n",
              "        vertical-align: middle;\n",
              "    }\n",
              "\n",
              "    .dataframe tbody tr th {\n",
              "        vertical-align: top;\n",
              "    }\n",
              "\n",
              "    .dataframe thead th {\n",
              "        text-align: right;\n",
              "    }\n",
              "</style>\n",
              "<table border=\"1\" class=\"dataframe\">\n",
              "  <thead>\n",
              "    <tr style=\"text-align: right;\">\n",
              "      <th></th>\n",
              "      <th>Close</th>\n",
              "      <th>Predictions</th>\n",
              "      <th>won/loss</th>\n",
              "    </tr>\n",
              "    <tr>\n",
              "      <th>Date</th>\n",
              "      <th></th>\n",
              "      <th></th>\n",
              "      <th></th>\n",
              "    </tr>\n",
              "  </thead>\n",
              "  <tbody>\n",
              "    <tr>\n",
              "      <th>2019-10-10</th>\n",
              "      <td>280.480011</td>\n",
              "      <td>290.039764</td>\n",
              "      <td>lost</td>\n",
              "    </tr>\n",
              "    <tr>\n",
              "      <th>2019-10-11</th>\n",
              "      <td>282.929993</td>\n",
              "      <td>291.403168</td>\n",
              "      <td>won</td>\n",
              "    </tr>\n",
              "    <tr>\n",
              "      <th>2019-10-14</th>\n",
              "      <td>285.529999</td>\n",
              "      <td>293.470520</td>\n",
              "      <td>won</td>\n",
              "    </tr>\n",
              "    <tr>\n",
              "      <th>2019-10-15</th>\n",
              "      <td>284.250000</td>\n",
              "      <td>295.924194</td>\n",
              "      <td>lost</td>\n",
              "    </tr>\n",
              "    <tr>\n",
              "      <th>2019-10-16</th>\n",
              "      <td>286.279999</td>\n",
              "      <td>298.068085</td>\n",
              "      <td>won</td>\n",
              "    </tr>\n",
              "    <tr>\n",
              "      <th>2019-10-17</th>\n",
              "      <td>293.350006</td>\n",
              "      <td>300.078827</td>\n",
              "      <td>won</td>\n",
              "    </tr>\n",
              "    <tr>\n",
              "      <th>2019-10-18</th>\n",
              "      <td>275.299988</td>\n",
              "      <td>302.688416</td>\n",
              "      <td>lost</td>\n",
              "    </tr>\n",
              "    <tr>\n",
              "      <th>2019-10-21</th>\n",
              "      <td>278.049988</td>\n",
              "      <td>302.860687</td>\n",
              "      <td>won</td>\n",
              "    </tr>\n",
              "    <tr>\n",
              "      <th>2019-10-22</th>\n",
              "      <td>266.690002</td>\n",
              "      <td>302.379700</td>\n",
              "      <td>won</td>\n",
              "    </tr>\n",
              "    <tr>\n",
              "      <th>2019-10-23</th>\n",
              "      <td>271.269989</td>\n",
              "      <td>300.171661</td>\n",
              "      <td>lost</td>\n",
              "    </tr>\n",
              "    <tr>\n",
              "      <th>2019-10-24</th>\n",
              "      <td>271.500000</td>\n",
              "      <td>298.122284</td>\n",
              "      <td>lost</td>\n",
              "    </tr>\n",
              "    <tr>\n",
              "      <th>2019-10-25</th>\n",
              "      <td>276.820007</td>\n",
              "      <td>296.401245</td>\n",
              "      <td>lost</td>\n",
              "    </tr>\n",
              "    <tr>\n",
              "      <th>2019-10-28</th>\n",
              "      <td>281.859985</td>\n",
              "      <td>295.732147</td>\n",
              "      <td>lost</td>\n",
              "    </tr>\n",
              "    <tr>\n",
              "      <th>2019-10-29</th>\n",
              "      <td>281.209991</td>\n",
              "      <td>296.244965</td>\n",
              "      <td>lost</td>\n",
              "    </tr>\n",
              "    <tr>\n",
              "      <th>2019-10-30</th>\n",
              "      <td>291.450012</td>\n",
              "      <td>297.115234</td>\n",
              "      <td>won</td>\n",
              "    </tr>\n",
              "    <tr>\n",
              "      <th>2019-10-31</th>\n",
              "      <td>287.410004</td>\n",
              "      <td>299.373016</td>\n",
              "      <td>lost</td>\n",
              "    </tr>\n",
              "    <tr>\n",
              "      <th>2019-11-01</th>\n",
              "      <td>286.809998</td>\n",
              "      <td>301.393524</td>\n",
              "      <td>lost</td>\n",
              "    </tr>\n",
              "    <tr>\n",
              "      <th>2019-11-04</th>\n",
              "      <td>292.859985</td>\n",
              "      <td>303.003326</td>\n",
              "      <td>won</td>\n",
              "    </tr>\n",
              "    <tr>\n",
              "      <th>2019-11-05</th>\n",
              "      <td>288.029999</td>\n",
              "      <td>305.018341</td>\n",
              "      <td>lost</td>\n",
              "    </tr>\n",
              "    <tr>\n",
              "      <th>2019-11-06</th>\n",
              "      <td>288.589996</td>\n",
              "      <td>306.304321</td>\n",
              "      <td>won</td>\n",
              "    </tr>\n",
              "    <tr>\n",
              "      <th>2019-11-07</th>\n",
              "      <td>289.570007</td>\n",
              "      <td>307.205933</td>\n",
              "      <td>won</td>\n",
              "    </tr>\n",
              "    <tr>\n",
              "      <th>2019-11-08</th>\n",
              "      <td>291.570007</td>\n",
              "      <td>307.948273</td>\n",
              "      <td>won</td>\n",
              "    </tr>\n",
              "    <tr>\n",
              "      <th>2019-11-11</th>\n",
              "      <td>294.179993</td>\n",
              "      <td>308.783173</td>\n",
              "      <td>won</td>\n",
              "    </tr>\n",
              "    <tr>\n",
              "      <th>2019-11-12</th>\n",
              "      <td>292.010010</td>\n",
              "      <td>309.886017</td>\n",
              "      <td>lost</td>\n",
              "    </tr>\n",
              "    <tr>\n",
              "      <th>2019-11-13</th>\n",
              "      <td>283.109985</td>\n",
              "      <td>310.677856</td>\n",
              "      <td>lost</td>\n",
              "    </tr>\n",
              "    <tr>\n",
              "      <th>2019-11-14</th>\n",
              "      <td>289.619995</td>\n",
              "      <td>310.089722</td>\n",
              "      <td>lost</td>\n",
              "    </tr>\n",
              "    <tr>\n",
              "      <th>2019-11-15</th>\n",
              "      <td>295.029999</td>\n",
              "      <td>309.855072</td>\n",
              "      <td>lost</td>\n",
              "    </tr>\n",
              "    <tr>\n",
              "      <th>2019-11-18</th>\n",
              "      <td>302.570007</td>\n",
              "      <td>310.473480</td>\n",
              "      <td>won</td>\n",
              "    </tr>\n",
              "    <tr>\n",
              "      <th>2019-11-19</th>\n",
              "      <td>302.600006</td>\n",
              "      <td>312.349304</td>\n",
              "      <td>won</td>\n",
              "    </tr>\n",
              "    <tr>\n",
              "      <th>2019-11-20</th>\n",
              "      <td>305.160004</td>\n",
              "      <td>314.520081</td>\n",
              "      <td>won</td>\n",
              "    </tr>\n",
              "    <tr>\n",
              "      <th>2019-11-21</th>\n",
              "      <td>311.690002</td>\n",
              "      <td>316.889954</td>\n",
              "      <td>won</td>\n",
              "    </tr>\n",
              "    <tr>\n",
              "      <th>2019-11-22</th>\n",
              "      <td>310.480011</td>\n",
              "      <td>319.890778</td>\n",
              "      <td>lost</td>\n",
              "    </tr>\n",
              "    <tr>\n",
              "      <th>2019-11-25</th>\n",
              "      <td>315.549988</td>\n",
              "      <td>322.608643</td>\n",
              "      <td>won</td>\n",
              "    </tr>\n",
              "    <tr>\n",
              "      <th>2019-11-26</th>\n",
              "      <td>312.489990</td>\n",
              "      <td>325.532257</td>\n",
              "      <td>lost</td>\n",
              "    </tr>\n",
              "    <tr>\n",
              "      <th>2019-11-27</th>\n",
              "      <td>315.929993</td>\n",
              "      <td>327.759399</td>\n",
              "      <td>won</td>\n",
              "    </tr>\n",
              "    <tr>\n",
              "      <th>2019-11-29</th>\n",
              "      <td>314.660004</td>\n",
              "      <td>329.868317</td>\n",
              "      <td>lost</td>\n",
              "    </tr>\n",
              "    <tr>\n",
              "      <th>2019-12-02</th>\n",
              "      <td>309.989990</td>\n",
              "      <td>331.479492</td>\n",
              "      <td>lost</td>\n",
              "    </tr>\n",
              "    <tr>\n",
              "      <th>2019-12-03</th>\n",
              "      <td>306.160004</td>\n",
              "      <td>332.072540</td>\n",
              "      <td>lost</td>\n",
              "    </tr>\n",
              "    <tr>\n",
              "      <th>2019-12-04</th>\n",
              "      <td>304.320007</td>\n",
              "      <td>331.670746</td>\n",
              "      <td>won</td>\n",
              "    </tr>\n",
              "    <tr>\n",
              "      <th>2019-12-05</th>\n",
              "      <td>302.859985</td>\n",
              "      <td>330.660461</td>\n",
              "      <td>won</td>\n",
              "    </tr>\n",
              "    <tr>\n",
              "      <th>2019-12-06</th>\n",
              "      <td>307.350006</td>\n",
              "      <td>329.326447</td>\n",
              "      <td>lost</td>\n",
              "    </tr>\n",
              "    <tr>\n",
              "      <th>2019-12-09</th>\n",
              "      <td>302.500000</td>\n",
              "      <td>328.608185</td>\n",
              "      <td>won</td>\n",
              "    </tr>\n",
              "    <tr>\n",
              "      <th>2019-12-10</th>\n",
              "      <td>293.119995</td>\n",
              "      <td>327.597290</td>\n",
              "      <td>won</td>\n",
              "    </tr>\n",
              "    <tr>\n",
              "      <th>2019-12-11</th>\n",
              "      <td>298.929993</td>\n",
              "      <td>325.391724</td>\n",
              "      <td>lost</td>\n",
              "    </tr>\n",
              "    <tr>\n",
              "      <th>2019-12-12</th>\n",
              "      <td>298.440002</td>\n",
              "      <td>323.738342</td>\n",
              "      <td>won</td>\n",
              "    </tr>\n",
              "    <tr>\n",
              "      <th>2019-12-13</th>\n",
              "      <td>298.500000</td>\n",
              "      <td>322.435181</td>\n",
              "      <td>lost</td>\n",
              "    </tr>\n",
              "    <tr>\n",
              "      <th>2019-12-16</th>\n",
              "      <td>304.209991</td>\n",
              "      <td>321.461487</td>\n",
              "      <td>lost</td>\n",
              "    </tr>\n",
              "    <tr>\n",
              "      <th>2019-12-17</th>\n",
              "      <td>315.480011</td>\n",
              "      <td>321.497955</td>\n",
              "      <td>won</td>\n",
              "    </tr>\n",
              "    <tr>\n",
              "      <th>2019-12-18</th>\n",
              "      <td>320.799988</td>\n",
              "      <td>323.412720</td>\n",
              "      <td>won</td>\n",
              "    </tr>\n",
              "    <tr>\n",
              "      <th>2019-12-19</th>\n",
              "      <td>332.220001</td>\n",
              "      <td>326.555664</td>\n",
              "      <td>won</td>\n",
              "    </tr>\n",
              "    <tr>\n",
              "      <th>2019-12-20</th>\n",
              "      <td>336.899994</td>\n",
              "      <td>331.311951</td>\n",
              "      <td>won</td>\n",
              "    </tr>\n",
              "  </tbody>\n",
              "</table>\n",
              "</div>"
            ],
            "text/plain": [
              "                 Close  Predictions won/loss\n",
              "Date                                        \n",
              "2019-10-10  280.480011   290.039764     lost\n",
              "2019-10-11  282.929993   291.403168      won\n",
              "2019-10-14  285.529999   293.470520      won\n",
              "2019-10-15  284.250000   295.924194     lost\n",
              "2019-10-16  286.279999   298.068085      won\n",
              "2019-10-17  293.350006   300.078827      won\n",
              "2019-10-18  275.299988   302.688416     lost\n",
              "2019-10-21  278.049988   302.860687      won\n",
              "2019-10-22  266.690002   302.379700      won\n",
              "2019-10-23  271.269989   300.171661     lost\n",
              "2019-10-24  271.500000   298.122284     lost\n",
              "2019-10-25  276.820007   296.401245     lost\n",
              "2019-10-28  281.859985   295.732147     lost\n",
              "2019-10-29  281.209991   296.244965     lost\n",
              "2019-10-30  291.450012   297.115234      won\n",
              "2019-10-31  287.410004   299.373016     lost\n",
              "2019-11-01  286.809998   301.393524     lost\n",
              "2019-11-04  292.859985   303.003326      won\n",
              "2019-11-05  288.029999   305.018341     lost\n",
              "2019-11-06  288.589996   306.304321      won\n",
              "2019-11-07  289.570007   307.205933      won\n",
              "2019-11-08  291.570007   307.948273      won\n",
              "2019-11-11  294.179993   308.783173      won\n",
              "2019-11-12  292.010010   309.886017     lost\n",
              "2019-11-13  283.109985   310.677856     lost\n",
              "2019-11-14  289.619995   310.089722     lost\n",
              "2019-11-15  295.029999   309.855072     lost\n",
              "2019-11-18  302.570007   310.473480      won\n",
              "2019-11-19  302.600006   312.349304      won\n",
              "2019-11-20  305.160004   314.520081      won\n",
              "2019-11-21  311.690002   316.889954      won\n",
              "2019-11-22  310.480011   319.890778     lost\n",
              "2019-11-25  315.549988   322.608643      won\n",
              "2019-11-26  312.489990   325.532257     lost\n",
              "2019-11-27  315.929993   327.759399      won\n",
              "2019-11-29  314.660004   329.868317     lost\n",
              "2019-12-02  309.989990   331.479492     lost\n",
              "2019-12-03  306.160004   332.072540     lost\n",
              "2019-12-04  304.320007   331.670746      won\n",
              "2019-12-05  302.859985   330.660461      won\n",
              "2019-12-06  307.350006   329.326447     lost\n",
              "2019-12-09  302.500000   328.608185      won\n",
              "2019-12-10  293.119995   327.597290      won\n",
              "2019-12-11  298.929993   325.391724     lost\n",
              "2019-12-12  298.440002   323.738342      won\n",
              "2019-12-13  298.500000   322.435181     lost\n",
              "2019-12-16  304.209991   321.461487     lost\n",
              "2019-12-17  315.480011   321.497955      won\n",
              "2019-12-18  320.799988   323.412720      won\n",
              "2019-12-19  332.220001   326.555664      won\n",
              "2019-12-20  336.899994   331.311951      won"
            ]
          },
          "metadata": {
            "tags": []
          },
          "execution_count": 96
        }
      ]
    },
    {
      "cell_type": "code",
      "metadata": {
        "id": "E1bQCdWyngsm",
        "colab_type": "code",
        "colab": {
          "base_uri": "https://localhost:8080/",
          "height": 34
        },
        "outputId": "af969736-4772-4714-db83-118eefceb6ef"
      },
      "source": [
        "lst.count('won'), lst.count('lost')"
      ],
      "execution_count": 97,
      "outputs": [
        {
          "output_type": "execute_result",
          "data": {
            "text/plain": [
              "(197, 203)"
            ]
          },
          "metadata": {
            "tags": []
          },
          "execution_count": 97
        }
      ]
    },
    {
      "cell_type": "code",
      "metadata": {
        "id": "6l6RQlXdpQgg",
        "colab_type": "code",
        "colab": {}
      },
      "source": [
        ""
      ],
      "execution_count": 0,
      "outputs": []
    }
  ]
}